{
 "cells": [
  {
   "cell_type": "code",
   "execution_count": null,
   "id": "155db808",
   "metadata": {
    "vscode": {
     "languageId": "plaintext"
    }
   },
   "outputs": [],
   "source": [
    "import pandas as pd\n",
    "import matplotlib.pyplot as plt\n",
    "\n",
    "# Habilitar renderização de gráficos\n",
    "%matplotlib inline\n",
    "\n",
    "caminho_csv = \"Caminho ate o CSV do resultado\"\n",
    "\n",
    "# Exibir todas as linhas\n",
    "pd.set_option('display.max_rows', None)\n",
    "\n",
    "# Ler o arquivo CSV\n",
    "resultados = pd.read_csv(caminho_csv)\n",
    "\n",
    "print(\"Resultados salvos no arquivo CSV:\")\n",
    "display(resultados)\n",
    "\n",
    "# Gráfico de Barras: Métricas Gerais do Grafo\n",
    "metricas_gerais = resultados[~resultados['Metrica'].str.startswith('Vertice')]\n",
    "metricas_gerais = metricas_gerais[metricas_gerais['Metrica'] != 'Intermediacao dos vertices']\n",
    "\n",
    "plt.figure(figsize=(10, 6))\n",
    "plt.bar(metricas_gerais['Metrica'], metricas_gerais['Valor'].astype(float), color='purple', edgecolor='black', alpha=0.7)\n",
    "plt.title('Métricas Gerais do Grafo', fontsize=16)\n",
    "plt.xlabel('Métricas', fontsize=14)\n",
    "plt.ylabel('Valores', fontsize=14)\n",
    "plt.xticks(rotation=45, ha='right')\n",
    "plt.grid(axis='y', linestyle='--', alpha=0.7)\n",
    "plt.tight_layout()\n",
    "plt.show()"
   ]
  }
 ],
 "metadata": {
  "language_info": {
   "name": "python"
  }
 },
 "nbformat": 4,
 "nbformat_minor": 5
}
